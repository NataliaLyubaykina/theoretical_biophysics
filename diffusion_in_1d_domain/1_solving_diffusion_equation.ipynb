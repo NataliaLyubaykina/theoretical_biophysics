{
 "cells": [
  {
   "cell_type": "markdown",
   "id": "f8394014-75e5-4895-9d1c-57f837b4aa66",
   "metadata": {},
   "source": [
    "# Analytical solution of diffusion equation"
   ]
  },
  {
   "cell_type": "markdown",
   "id": "35c8079a-6306-4869-a4eb-a1400ce88e37",
   "metadata": {
    "jp-MarkdownHeadingCollapsed": true,
    "tags": []
   },
   "source": [
    "$N$ particles are located at $x = 0$ at $t = 0$, and can diffuse in a medium with constant diffusion coefficient $D$, \n",
    "then the dynamics of particle concentration $c(x, t)$ is given by diffusion equation\n",
    "\n",
    "$$ \\partial_{t} c(x, t) = D \\partial_{x}^{2} c(x, t) \\quad. $$\n",
    "\n",
    "With initial conditions $ c(x, t)|_{t = 0} = N \\delta(x)$.\n",
    "\n",
    "To solve the diffusion equation, let's apply the Fourier transform to both sides of the equation, the Fourier transform of $ c(x, t) $ is defined as $ \\hat{c}(\\xi, t) = \\int_{-\\infty}^{\\infty} c(x, t) e^{-i \\xi x} \\, dx $,\n",
    "\n",
    "$$ \\partial_{t} \\hat{c}(\\xi, t) = -\\xi^2 D \\hat{c}(\\xi, t)  \\quad. $$\n",
    "\n",
    "This is an ordinary differential equation for $ \\hat{c}(\\xi, t) $ and its solution is\n",
    "\n",
    "$$ \\hat{c}(\\xi, t) = \\hat{c}(\\xi, 0) e^{-D \\xi^2 t}  \\quad $$\n",
    "\n",
    "or given the initial condition $ c(x, t)|_{t = 0} = N \\delta(x) $\n",
    "\n",
    "$$ \\hat{c}(\\xi, t) = N e^{-D \\xi^2 t}  \\quad. $$\n",
    "\n",
    "To find the solution in real space, let's apply the inverse Fourier transform to the last equation:\n",
    "\n",
    "$$ c(x, t) = \\mathcal{F}_{x}^{-1}[ \\hat{c}(\\xi, t)](x) = \\frac{N}{2\\pi} \\int_{-\\infty}^{\\infty} e^{-D \\xi^2 t} e^{i \\xi x} \\, d\\xi  \\quad. $$\n",
    "\n",
    "Appling the known Gauss integral $ \\int_{-\\infty}^{+\\infty} e^{-x^{2}} d x = \\sqrt{\\pi} $ and $i \\xi x + D \\xi^{2} t = (\\sqrt{Dt} \\xi + \\frac{x i}{2 \\sqrt{D t}})^{2} + \\frac{x^{2}}{4 D t}$, we obtain the final analytical solution to the diffusion equation with the initial condition $ N \\delta(x) $:\n",
    "\n",
    "$$ c(x, t) = \\frac{N}{\\sqrt{4 \\pi D t}} e^{-\\frac{x^2}{4Dt}}   \\quad.  $$\n",
    "\n",
    "*This solution can be found in multiple textbooks, for example, \"Introduction to Partial Differential Equations\" by Peter J. Olver*."
   ]
  },
  {
   "cell_type": "code",
   "execution_count": 1,
   "id": "0a902a48-ab5f-4038-a9ac-9f7c1863b815",
   "metadata": {
    "tags": []
   },
   "outputs": [],
   "source": [
    "import numpy as np\n",
    "import matplotlib.pyplot as plt"
   ]
  },
  {
   "cell_type": "code",
   "execution_count": 2,
   "id": "2a4ececb-450d-4976-a040-e22b28ad141e",
   "metadata": {
    "tags": []
   },
   "outputs": [],
   "source": [
    "def analytical_solution(x, t, D, N):\n",
    "    \"\"\"\n",
    "    Analytical solution of diffusion equation.\n",
    "    Parameters:\n",
    "    x  : np.array\n",
    "    t  : float   - time point\n",
    "    D  : float   - diffusion coefficient\n",
    "    N  : int     - number of particles\n",
    "    Returns:\n",
    "    np.array\n",
    "    \"\"\"\n",
    "    return (N / np.sqrt(4 * np.pi * D * t)) * np.exp(-x**2 / (4 * D * t))"
   ]
  },
  {
   "cell_type": "code",
   "execution_count": 3,
   "id": "f90f3189-b30e-4b54-8bbb-27a341973d21",
   "metadata": {
    "tags": []
   },
   "outputs": [],
   "source": [
    "N = 1e6  # Number of particles\n",
    "D = 1.0  # Diffusion coefficient"
   ]
  },
  {
   "cell_type": "code",
   "execution_count": 4,
   "id": "df0d80df-b70c-48d3-afad-8da7dfe91073",
   "metadata": {
    "tags": []
   },
   "outputs": [
    {
     "data": {
      "image/png": "[encoded data removed]",
      "text/plain": [
       "<Figure size 640x480 with 1 Axes>"
      ]
     },
     "metadata": {},
     "output_type": "display_data"
    }
   ],
   "source": [
    "ax = plt.subplot()\n",
    "x = np.linspace(-5, 5, 1000)\n",
    "\n",
    "# plot a few time point\n",
    "for t in [0.01, 0.1, 1]:\n",
    "    ax.plot(x, analytical_solution(x, t, D, N), label=f't={t}')\n",
    "    \n",
    "plt.xlabel('x')\n",
    "plt.ylabel('c(x, t)')\n",
    "plt.legend()\n",
    "plt.show()"
   ]
  },
  {
   "cell_type": "markdown",
   "id": "6956061b-dd65-4da4-8874-5afdc43cfba2",
   "metadata": {},
   "source": [
    "# Numerical solution of diffusion equation"
   ]
  },
  {
   "cell_type": "markdown",
   "id": "f0c12205-cdcf-4e27-b53b-d4ed9d8c2f96",
   "metadata": {},
   "source": [
    "**Euler Scheme**\n",
    "\n",
    "The same solution for the diffusion equation can also be found numerically using the Euler scheme ([Wikipedia](https://en.wikipedia.org/wiki/Euler_method)). The Euler scheme is a simple numerical method for solving differential equations by approximating the solution at small time steps. This method iteratively updates the concentration values based on the current values and the discretized second spatial derivative.\n",
    "\n",
    "For the diffusion equation:\n",
    "\n",
    "$$ \\partial_{t} c(x, t) = D \\partial_{x}^{2} c(x, t) \\quad $$\n",
    "\n",
    "the Euler scheme approximates the solution as:\n",
    "\n",
    "$$ c_i^{n+1} = c_i^n + \\Delta t \\cdot D \\frac{c_{i+1}^n - 2c_i^n + c_{i-1}^n}{\\Delta x^2} \\quad, $$\n",
    "\n",
    "where:\n",
    "- $ c_i^n $ is the concentration at position $ x_i $ and time $ t_n $.\n",
    "- $ \\Delta t $ is the time step size.\n",
    "- $ \\Delta x $ is the spatial step size."
   ]
  },
  {
   "cell_type": "code",
   "execution_count": 5,
   "id": "86f7d11a-607a-474a-8d45-45e5098febe8",
   "metadata": {
    "tags": []
   },
   "outputs": [],
   "source": [
    "N = 1e6  # Number of particles\n",
    "D = 1.0  # Diffusion coefficient"
   ]
  },
  {
   "cell_type": "code",
   "execution_count": 6,
   "id": "254942fd-c5b0-49c8-b790-d98f20f677d0",
   "metadata": {
    "tags": []
   },
   "outputs": [],
   "source": [
    "# parameters for Euler scheme\n",
    "\n",
    "tmax = 1    # time till what to calculate solution\n",
    "Lmax = 1e2  # system size, boundaries are far away ~ infinity\n",
    "\n",
    "dt   = 1e-3 # time step\n",
    "dx   = 1e-1 # spatial step"
   ]
  },
  {
   "cell_type": "code",
   "execution_count": 13,
   "id": "a00c84db-9032-449a-be3d-f71133fc1449",
   "metadata": {
    "tags": []
   },
   "outputs": [],
   "source": [
    "# arrays for space and time coordinates\n",
    "\n",
    "x   = np.arange(-Lmax, Lmax+dx, dx)\n",
    "ndx = len(x)\n",
    "\n",
    "t   = np.arange(0, tmax+dt, dt)\n",
    "ndt = len(t)"
   ]
  },
  {
   "cell_type": "code",
   "execution_count": 15,
   "id": "daa68007-eb71-4e90-afc8-1b3eb481e341",
   "metadata": {
    "tags": []
   },
   "outputs": [
    {
     "data": {
      "text/plain": [
       "array([], shape=(0, 1), dtype=int64)"
      ]
     },
     "execution_count": 15,
     "metadata": {},
     "output_type": "execute_result"
    }
   ],
   "source": [
    "np.argwhere(x == 0)"
   ]
  },
  {
   "cell_type": "code",
   "execution_count": 16,
   "id": "4168d6ff-5c37-4fd3-8f1d-5316bb836455",
   "metadata": {
    "tags": []
   },
   "outputs": [
    {
     "data": {
      "text/plain": [
       "array([-1.00000000e+00, -9.00000000e-01, -8.00000000e-01, -7.00000000e-01,\n",
       "       -6.00000000e-01, -5.00000000e-01, -4.00000000e-01, -3.00000000e-01,\n",
       "       -2.00000000e-01, -1.00000000e-01, -5.68434189e-12,  1.00000000e-01,\n",
       "        2.00000000e-01,  3.00000000e-01,  4.00000000e-01,  5.00000000e-01,\n",
       "        6.00000000e-01,  7.00000000e-01,  8.00000000e-01,  9.00000000e-01])"
      ]
     },
     "execution_count": 16,
     "metadata": {},
     "output_type": "execute_result"
    }
   ],
   "source": [
    "x[990:1010]"
   ]
  },
  {
   "cell_type": "markdown",
   "id": "10f8353e-bcb1-4e2f-806d-c879c78efea0",
   "metadata": {},
   "source": [
    "**Stability of numerical scheme**\n",
    "\n",
    "To ensure numerical stability, the Euler scheme must satisfy the Courant–Friedrichs–Lewy (CFL) condition:\n",
    "\n",
    "$$ D \\frac{\\Delta t}{\\Delta x^2} \\leq \\frac{1}{2} \\quad. $$\n",
    "\n",
    "This condition ensures that the time step is sufficiently small relative to the spatial step size and the diffusion coefficient. "
   ]
  },
  {
   "cell_type": "code",
   "execution_count": 8,
   "id": "dacb6140-478b-4be2-87ef-28f5a3715030",
   "metadata": {
    "tags": []
   },
   "outputs": [
    {
     "name": "stdout",
     "output_type": "stream",
     "text": [
      "the Courant condition is fullfilled, D*dt/dx**2 = 0.1\n"
     ]
    }
   ],
   "source": [
    "if D*dt/dx**2 < 0.5:\n",
    "    print(f'the Courant condition is fullfilled, D*dt/dx**2 = {np.round(D*dt/dx**2, 2)}')\n",
    "else:\n",
    "    print(f'the Courant condition is NOT fullfilled, please, revise parameters for Euler scheme')\n",
    "    print(f'D*dt/dx**2 = {np.round(D*dt/dx**2, 2)}')"
   ]
  },
  {
   "cell_type": "code",
   "execution_count": 9,
   "id": "7b49fab6-3855-4076-9395-20f2a4a8c2c3",
   "metadata": {
    "tags": []
   },
   "outputs": [],
   "source": [
    "def numerical_laplacian(c, dx):\n",
    "    \"\"\"\n",
    "    Numerical lapplacian for the concentration array.\n",
    "    Parameters:\n",
    "    c  : np.array - concentration array\n",
    "    dx : float   - spatial discretization size\n",
    "    Returns:\n",
    "    np.array\n",
    "    \"\"\"\n",
    "    c_iminus  = np.roll(c, 1)\n",
    "    c_iplus   = np.roll(c, -1)\n",
    "    laplacian = (c_iplus - 2*c + c_iminus)/dx**2\n",
    "    return laplacian"
   ]
  },
  {
   "cell_type": "code",
   "execution_count": null,
   "id": "c45026b8-c5bb-4bcc-9ad5-bc621f748606",
   "metadata": {},
   "outputs": [],
   "source": [
    "# list for the spatial profiles of concentration c as function of time\n",
    "ct = []\n",
    "\n",
    "# inital conditions\n",
    "c0 = np.zeros_like(x)\n",
    "\n",
    "ct.append()"
   ]
  },
  {
   "cell_type": "code",
   "execution_count": 17,
   "id": "f119d6ed-515a-440f-85df-9c9c757a7dc1",
   "metadata": {
    "tags": []
   },
   "outputs": [
    {
     "name": "stderr",
     "output_type": "stream",
     "text": [
      "100%|███████████████████████████████████████████████████████████████████████| 100000/100000 [00:07<00:00, 12578.94it/s]\n"
     ]
    }
   ],
   "source": [
    "import tqdm # library to visualize the progress status of a python loop\n",
    "\n",
    "\n",
    "\n",
    "# loop through time \n",
    "for n in tqdm( range(1, ndt) ):\n",
    "    \n",
    "    cn = ct[-1]\n",
    "    \n",
    "    c_n = D * laplacian(c_prev, x_centers) * dt + c_prev - beta * c_prev * dt\n",
    "    \n",
    "    p = j * prod_zone( x_centers, x0, w )\n",
    "    c_n = c_n + j * p * dt\n",
    "    \n",
    "    c_n = refl_bound( c_n )\n",
    "    \n",
    "    ct.append(c_n)        \n",
    "    pt.append( p )"
   ]
  },
  {
   "cell_type": "code",
   "execution_count": 18,
   "id": "7726153f-38c4-48fa-bc29-36deeb179bea",
   "metadata": {
    "tags": []
   },
   "outputs": [],
   "source": [
    "ct        = cut_edges(ct)\n",
    "pt        = cut_edges(pt)"
   ]
  }
 ],
 "metadata": {
  "kernelspec": {
   "display_name": "Python 3 (ipykernel)",
   "language": "python",
   "name": "python3"
  },
  "language_info": {
   "codemirror_mode": {
    "name": "ipython",
    "version": 3
   },
   "file_extension": ".py",
   "mimetype": "text/x-python",
   "name": "python",
   "nbconvert_exporter": "python",
   "pygments_lexer": "ipython3",
   "version": "3.11.4"
  }
 },
 "nbformat": 4,
 "nbformat_minor": 5
}
